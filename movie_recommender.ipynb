{
  "nbformat": 4,
  "nbformat_minor": 0,
  "metadata": {
    "colab": {
      "name": "movie recommender.ipynb",
      "provenance": [],
      "collapsed_sections": [],
      "machine_shape": "hm",
      "include_colab_link": true
    },
    "kernelspec": {
      "name": "python3",
      "display_name": "Python 3"
    }
  },
  "cells": [
    {
      "cell_type": "markdown",
      "metadata": {
        "id": "view-in-github",
        "colab_type": "text"
      },
      "source": [
        "<a href=\"https://colab.research.google.com/github/josephpark0828/movie-recommender/blob/main/movie_recommender.ipynb\" target=\"_parent\"><img src=\"https://colab.research.google.com/assets/colab-badge.svg\" alt=\"Open In Colab\"/></a>"
      ]
    },
    {
      "cell_type": "code",
      "metadata": {
        "colab": {
          "base_uri": "https://localhost:8080/"
        },
        "id": "utYS5Kugko2R",
        "outputId": "4004b7ea-e863-40f9-f6cd-3bb0a2a3ecad"
      },
      "source": [
        "import pandas as pd\n",
        "\n",
        "metadata = pd.read_csv('movies_metadata.csv.zip', low_memory=False)\n",
        "\n",
        "metadata['overview'].head()"
      ],
      "execution_count": null,
      "outputs": [
        {
          "output_type": "execute_result",
          "data": {
            "text/plain": [
              "0    Led by Woody, Andy's toys live happily in his ...\n",
              "1    When siblings Judy and Peter discover an encha...\n",
              "2    A family wedding reignites the ancient feud be...\n",
              "3    Cheated on, mistreated and stepped on, the wom...\n",
              "4    Just when George Banks has recovered from his ...\n",
              "Name: overview, dtype: object"
            ]
          },
          "metadata": {},
          "execution_count": 1
        }
      ]
    },
    {
      "cell_type": "code",
      "metadata": {
        "id": "DrlLuIyblyYN"
      },
      "source": [
        "from sklearn.feature_extraction.text import TfidfVectorizer\n",
        "\n",
        "vectorizer_obj = TfidfVectorizer(stop_words='english')\n",
        "\n",
        "metadata['overview'] = metadata['overview'].fillna('')\n",
        "\n",
        "vectorizer_matrix = vectorizer_obj.fit_transform(metadata['overview'])"
      ],
      "execution_count": null,
      "outputs": []
    },
    {
      "cell_type": "code",
      "metadata": {
        "colab": {
          "base_uri": "https://localhost:8080/"
        },
        "id": "anPVePZQnNdA",
        "outputId": "9c574a9f-4851-462d-a4df-f15f03995c1e"
      },
      "source": [
        "vectorizer_matrix.shape"
      ],
      "execution_count": null,
      "outputs": [
        {
          "output_type": "execute_result",
          "data": {
            "text/plain": [
              "(45466, 75827)"
            ]
          },
          "metadata": {},
          "execution_count": 3
        }
      ]
    },
    {
      "cell_type": "code",
      "metadata": {
        "colab": {
          "base_uri": "https://localhost:8080/"
        },
        "id": "q0-F1U0uoiiF",
        "outputId": "30ec8924-375c-45d9-e4f5-ab9227e028f8"
      },
      "source": [
        "vectorizer_obj.get_feature_names()[5000:5010]"
      ],
      "execution_count": null,
      "outputs": [
        {
          "output_type": "execute_result",
          "data": {
            "text/plain": [
              "['avails',\n",
              " 'avaks',\n",
              " 'avalanche',\n",
              " 'avalanches',\n",
              " 'avallone',\n",
              " 'avalon',\n",
              " 'avant',\n",
              " 'avanthika',\n",
              " 'avanti',\n",
              " 'avaracious']"
            ]
          },
          "metadata": {},
          "execution_count": 4
        }
      ]
    },
    {
      "cell_type": "code",
      "metadata": {
        "colab": {
          "base_uri": "https://localhost:8080/"
        },
        "id": "10111njeqLLH",
        "outputId": "e483fd60-9a73-4f89-a3ff-9728deeb2213"
      },
      "source": [
        "from sklearn.metrics.pairwise import linear_kernel\n",
        "\n",
        "cosine_sim = linear_kernel(vectorizer_matrix, vectorizer_matrix)\n",
        "\n",
        "cosine_sim.shape\n",
        "\n",
        "cosine_sim[0]"
      ],
      "execution_count": null,
      "outputs": [
        {
          "output_type": "execute_result",
          "data": {
            "text/plain": [
              "array([1.        , 0.01504121, 0.        , ..., 0.        , 0.00595453,\n",
              "       0.        ])"
            ]
          },
          "metadata": {},
          "execution_count": 5
        }
      ]
    },
    {
      "cell_type": "code",
      "metadata": {
        "colab": {
          "base_uri": "https://localhost:8080/"
        },
        "id": "YvqOewM0s3Hm",
        "outputId": "da57c09d-f2e2-4e40-ecd6-9c46c68adc9c"
      },
      "source": [
        "indices = pd.Series(metadata.index, index=metadata['title']).drop_duplicates()\n",
        "indices[:10]"
      ],
      "execution_count": null,
      "outputs": [
        {
          "output_type": "execute_result",
          "data": {
            "text/plain": [
              "title\n",
              "Toy Story                      0\n",
              "Jumanji                        1\n",
              "Grumpier Old Men               2\n",
              "Waiting to Exhale              3\n",
              "Father of the Bride Part II    4\n",
              "Heat                           5\n",
              "Sabrina                        6\n",
              "Tom and Huck                   7\n",
              "Sudden Death                   8\n",
              "GoldenEye                      9\n",
              "dtype: int64"
            ]
          },
          "metadata": {},
          "execution_count": 6
        }
      ]
    },
    {
      "cell_type": "code",
      "metadata": {
        "id": "vmR_atFSWKiM"
      },
      "source": [
        "def get_recommendations(title, cosine_sim=cosine_sim):\n",
        "  index = indices[title]\n",
        "\n",
        "  sim_scores = list(enumerate(cosine_sim[index]))\n",
        "\n",
        "  sim_scores = sorted(sim_scores, key=lambda x: x[1], reverse=True)\n",
        "\n",
        "  sim_scores = sim_scores[1:11]\n",
        "\n",
        "  movie_indices = [i[0] for i in sim_scores]\n",
        "\n",
        "  return metadata['title'].iloc[movie_indices]"
      ],
      "execution_count": null,
      "outputs": []
    },
    {
      "cell_type": "code",
      "metadata": {
        "colab": {
          "base_uri": "https://localhost:8080/"
        },
        "id": "Xw6vrJLonI77",
        "outputId": "4e11a3bf-dd19-436a-c760-bd418c03c220"
      },
      "source": [
        "get_recommendations('Toy Story')"
      ],
      "execution_count": null,
      "outputs": [
        {
          "output_type": "execute_result",
          "data": {
            "text/plain": [
              "15348                                     Toy Story 3\n",
              "2997                                      Toy Story 2\n",
              "10301                          The 40 Year Old Virgin\n",
              "24523                                       Small Fry\n",
              "23843                     Andy Hardy's Blonde Trouble\n",
              "29202                                      Hot Splash\n",
              "43427                Andy Kaufman Plays Carnegie Hall\n",
              "38476    Superstar: The Life and Times of Andy Warhol\n",
              "42721    Andy Peters: Exclamation Mark Question Point\n",
              "8327                                        The Champ\n",
              "Name: title, dtype: object"
            ]
          },
          "metadata": {},
          "execution_count": 8
        }
      ]
    }
  ]
}